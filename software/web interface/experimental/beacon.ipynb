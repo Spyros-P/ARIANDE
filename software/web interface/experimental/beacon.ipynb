{
 "cells": [
  {
   "cell_type": "code",
   "execution_count": 1,
   "metadata": {},
   "outputs": [],
   "source": [
    "from bleak import BleakScanner\n",
    "import math\n",
    "\n",
    "def calculate_distance(rssi, tx_power=-59):\n",
    "    \"\"\"\n",
    "    Calculate the approximate distance from the RSSI value.\n",
    "\n",
    "    :param rssi: Received Signal Strength Indicator (RSSI) value\n",
    "    :param tx_power: Measured power (RSSI at 1 meter), typically set to -59\n",
    "    :return: Approximate distance in meters\n",
    "    \"\"\"\n",
    "    if rssi == 0:\n",
    "        return -1  # Signal is invalid\n",
    "\n",
    "    ratio = rssi / tx_power\n",
    "    if ratio < 1.0:\n",
    "        return math.pow(ratio, 10)\n",
    "    else:\n",
    "        return 0.89976 * math.pow(ratio, 7.7095) + 0.111\n"
   ]
  },
  {
   "cell_type": "code",
   "execution_count": null,
   "metadata": {},
   "outputs": [
    {
     "name": "stdout",
     "output_type": "stream",
     "text": [
      "Found device: C8-F0-9E-F8-AD-DA - C8:F0:9E:F8:AD:DA (RSSI: -46 dBm)\n",
      "Found device: 32-82-4E-E3-BA-F2 - 32:82:4E:E3:BA:F2 (RSSI: -83 dBm)\n",
      "Found device: 39-91-BC-10-23-C6 - 39:91:BC:10:23:C6 (RSSI: -68 dBm)\n",
      "Found device: 6E-98-0D-11-2A-E3 - 6E:98:0D:11:2A:E3 (RSSI: -96 dBm)\n"
     ]
    },
    {
     "name": "stderr",
     "output_type": "stream",
     "text": [
      "/tmp/ipykernel_19629/2731373350.py:5: FutureWarning: BLEDevice.rssi is deprecated and will be removed in a future version of Bleak, use AdvertisementData.rssi instead\n",
      "  print(f\"Found device: {device.name} - {device.address} (RSSI: {device.rssi} dBm)\")\n"
     ]
    }
   ],
   "source": [
    "devices = await BleakScanner.discover(timeout=3)\n",
    "\n",
    "target_device = None\n",
    "for device in devices:\n",
    "    print(f\"Found device: {device.name} - {device.address} (RSSI: {device.rssi} dBm)\")"
   ]
  },
  {
   "cell_type": "code",
   "execution_count": 7,
   "metadata": {},
   "outputs": [
    {
     "name": "stdout",
     "output_type": "stream",
     "text": [
      "Found device: C8-F0-9E-F8-AD-DA - C8:F0:9E:F8:AD:DA (RSSI: -56 dBm)\n",
      "Found device: GR-AC_10001_09_991a_SC - C0:39:37:81:99:1A (RSSI: -89 dBm)\n",
      "Found device: 1D-04-58-06-44-78 - 1D:04:58:06:44:78 (RSSI: -83 dBm)\n",
      "Found device: 39-91-BC-10-23-C6 - 39:91:BC:10:23:C6 (RSSI: -68 dBm)\n",
      "Found device: [TV] Samsung QN90AA 55 TV - 10:2B:41:90:F6:58 (RSSI: -95 dBm)\n",
      "Found device: 6E-98-0D-11-2A-E3 - 6E:98:0D:11:2A:E3 (RSSI: -99 dBm)\n",
      "Found device: 23-D4-F9-DC-2D-10 - 23:D4:F9:DC:2D:10 (RSSI: -100 dBm)\n",
      "Found device: 32-82-4E-E3-BA-F2 - 32:82:4E:E3:BA:F2 (RSSI: -78 dBm)\n"
     ]
    },
    {
     "name": "stderr",
     "output_type": "stream",
     "text": [
      "/tmp/ipykernel_19629/4022214332.py:5: FutureWarning: BLEDevice.rssi is deprecated and will be removed in a future version of Bleak, use AdvertisementData.rssi instead\n",
      "  print(f\"Found device: {device.name} - {device.address} (RSSI: {device.rssi} dBm)\")\n"
     ]
    }
   ],
   "source": [
    "devices = await BleakScanner.discover(timeout=3)\n",
    "\n",
    "for device in devices:\n",
    "    print(f\"Found device: {device.name} - {device.address} (RSSI: {device.rssi} dBm)\")"
   ]
  },
  {
   "cell_type": "code",
   "execution_count": 24,
   "metadata": {},
   "outputs": [
    {
     "name": "stdout",
     "output_type": "stream",
     "text": [
      "Target device ESP32 Beacon found with MAC C8:F0:9E:F8:AD:DA\n"
     ]
    }
   ],
   "source": [
    "devices = await BleakScanner.discover(timeout=0.1)\n",
    "\n",
    "target_device_name = 'ESP32 Beacon'\n",
    "target_device = None\n",
    "# for device in devices:\n",
    "#     print(f\"Found device: {device.name} - {device.address} (RSSI: {device.rssi} dBm)\")\n",
    "# print('--------------------------')\n",
    "for device in devices:\n",
    "    if device.name and target_device_name.lower() in device.name.lower():\n",
    "        target_device = device\n",
    "        print(f\"Target device {device.name} found with MAC {device.address}\")\n",
    "        break"
   ]
  },
  {
   "cell_type": "code",
   "execution_count": 29,
   "metadata": {},
   "outputs": [
    {
     "name": "stderr",
     "output_type": "stream",
     "text": [
      "/tmp/ipykernel_19629/3528842020.py:18: FutureWarning: BLEDevice.rssi is deprecated and will be removed in a future version of Bleak, use AdvertisementData.rssi instead\n",
      "  distance = calculate_distance(target_device.rssi)\n",
      "/tmp/ipykernel_19629/3528842020.py:20: FutureWarning: BLEDevice.rssi is deprecated and will be removed in a future version of Bleak, use AdvertisementData.rssi instead\n",
      "  print(f'\\rApproximate distance: {distance:2.2f} meters ({target_device.rssi} dB)', end='')\n"
     ]
    },
    {
     "name": "stdout",
     "output_type": "stream",
     "text": [
      "Approximate distance: 0.19 meters (-50 dB)"
     ]
    },
    {
     "ename": "CancelledError",
     "evalue": "",
     "output_type": "error",
     "traceback": [
      "\u001b[0;31m---------------------------------------------------------------------------\u001b[0m",
      "\u001b[0;31mCancelledError\u001b[0m                            Traceback (most recent call last)",
      "Cell \u001b[0;32mIn[29], line 4\u001b[0m\n\u001b[1;32m      2\u001b[0m \u001b[38;5;66;03m# print(\"Scanning for devices...\")\u001b[39;00m\n\u001b[1;32m      3\u001b[0m \u001b[38;5;28;01mwhile\u001b[39;00m \u001b[38;5;28;01mTrue\u001b[39;00m:\n\u001b[0;32m----> 4\u001b[0m     devices \u001b[38;5;241m=\u001b[39m \u001b[38;5;28;01mawait\u001b[39;00m BleakScanner\u001b[38;5;241m.\u001b[39mdiscover(timeout\u001b[38;5;241m=\u001b[39m\u001b[38;5;241m0.02\u001b[39m)\n\u001b[1;32m      6\u001b[0m     target_device \u001b[38;5;241m=\u001b[39m \u001b[38;5;28;01mNone\u001b[39;00m\n\u001b[1;32m      7\u001b[0m     \u001b[38;5;28;01mfor\u001b[39;00m device \u001b[38;5;129;01min\u001b[39;00m devices:\n\u001b[1;32m      8\u001b[0m         \u001b[38;5;66;03m# print(f\"Found device: {device.name} - {device.address} (RSSI: {device.rssi} dBm)\")\u001b[39;00m\n",
      "File \u001b[0;32m~/pyenvs/main/lib/python3.12/site-packages/bleak/__init__.py:320\u001b[0m, in \u001b[0;36mBleakScanner.discover\u001b[0;34m(cls, timeout, return_adv, **kwargs)\u001b[0m\n\u001b[1;32m    297\u001b[0m \u001b[38;5;129m@classmethod\u001b[39m\n\u001b[1;32m    298\u001b[0m \u001b[38;5;28;01masync\u001b[39;00m \u001b[38;5;28;01mdef\u001b[39;00m \u001b[38;5;21mdiscover\u001b[39m(\n\u001b[1;32m    299\u001b[0m     \u001b[38;5;28mcls\u001b[39m, timeout\u001b[38;5;241m=\u001b[39m\u001b[38;5;241m5.0\u001b[39m, \u001b[38;5;241m*\u001b[39m, return_adv\u001b[38;5;241m=\u001b[39m\u001b[38;5;28;01mFalse\u001b[39;00m, \u001b[38;5;241m*\u001b[39m\u001b[38;5;241m*\u001b[39mkwargs: Unpack[ExtraArgs]\n\u001b[1;32m    300\u001b[0m ):\n\u001b[1;32m    301\u001b[0m \u001b[38;5;250m    \u001b[39m\u001b[38;5;124;03m\"\"\"\u001b[39;00m\n\u001b[1;32m    302\u001b[0m \u001b[38;5;124;03m    Scan continuously for ``timeout`` seconds and return discovered devices.\u001b[39;00m\n\u001b[1;32m    303\u001b[0m \n\u001b[0;32m   (...)\u001b[0m\n\u001b[1;32m    318\u001b[0m \u001b[38;5;124;03m        Added ``return_adv`` parameter.\u001b[39;00m\n\u001b[1;32m    319\u001b[0m \u001b[38;5;124;03m    \"\"\"\u001b[39;00m\n\u001b[0;32m--> 320\u001b[0m     \u001b[38;5;28;01masync\u001b[39;00m \u001b[38;5;28;01mwith\u001b[39;00m \u001b[38;5;28mcls\u001b[39m(\u001b[38;5;241m*\u001b[39m\u001b[38;5;241m*\u001b[39mkwargs) \u001b[38;5;28;01mas\u001b[39;00m scanner:\n\u001b[1;32m    321\u001b[0m         \u001b[38;5;28;01mawait\u001b[39;00m asyncio\u001b[38;5;241m.\u001b[39msleep(timeout)\n\u001b[1;32m    323\u001b[0m     \u001b[38;5;28;01mif\u001b[39;00m return_adv:\n",
      "File \u001b[0;32m~/pyenvs/main/lib/python3.12/site-packages/bleak/__init__.py:158\u001b[0m, in \u001b[0;36mBleakScanner.__aenter__\u001b[0;34m(self)\u001b[0m\n\u001b[1;32m    157\u001b[0m \u001b[38;5;28;01masync\u001b[39;00m \u001b[38;5;28;01mdef\u001b[39;00m \u001b[38;5;21m__aenter__\u001b[39m(\u001b[38;5;28mself\u001b[39m) \u001b[38;5;241m-\u001b[39m\u001b[38;5;241m>\u001b[39m BleakScanner:\n\u001b[0;32m--> 158\u001b[0m     \u001b[38;5;28;01mawait\u001b[39;00m \u001b[38;5;28mself\u001b[39m\u001b[38;5;241m.\u001b[39m_backend\u001b[38;5;241m.\u001b[39mstart()\n\u001b[1;32m    159\u001b[0m     \u001b[38;5;28;01mreturn\u001b[39;00m \u001b[38;5;28mself\u001b[39m\n",
      "File \u001b[0;32m~/pyenvs/main/lib/python3.12/site-packages/bleak/backends/bluezdbus/scanner.py:185\u001b[0m, in \u001b[0;36mBleakScannerBlueZDBus.start\u001b[0;34m(self)\u001b[0m\n\u001b[1;32m    178\u001b[0m     \u001b[38;5;28mself\u001b[39m\u001b[38;5;241m.\u001b[39m_stop \u001b[38;5;241m=\u001b[39m \u001b[38;5;28;01mawait\u001b[39;00m manager\u001b[38;5;241m.\u001b[39mpassive_scan(\n\u001b[1;32m    179\u001b[0m         adapter_path,\n\u001b[1;32m    180\u001b[0m         \u001b[38;5;28mself\u001b[39m\u001b[38;5;241m.\u001b[39m_or_patterns,\n\u001b[1;32m    181\u001b[0m         \u001b[38;5;28mself\u001b[39m\u001b[38;5;241m.\u001b[39m_handle_advertising_data,\n\u001b[1;32m    182\u001b[0m         \u001b[38;5;28mself\u001b[39m\u001b[38;5;241m.\u001b[39m_handle_device_removed,\n\u001b[1;32m    183\u001b[0m     )\n\u001b[1;32m    184\u001b[0m \u001b[38;5;28;01melse\u001b[39;00m:\n\u001b[0;32m--> 185\u001b[0m     \u001b[38;5;28mself\u001b[39m\u001b[38;5;241m.\u001b[39m_stop \u001b[38;5;241m=\u001b[39m \u001b[38;5;28;01mawait\u001b[39;00m manager\u001b[38;5;241m.\u001b[39mactive_scan(\n\u001b[1;32m    186\u001b[0m         adapter_path,\n\u001b[1;32m    187\u001b[0m         \u001b[38;5;28mself\u001b[39m\u001b[38;5;241m.\u001b[39m_filters,\n\u001b[1;32m    188\u001b[0m         \u001b[38;5;28mself\u001b[39m\u001b[38;5;241m.\u001b[39m_handle_advertising_data,\n\u001b[1;32m    189\u001b[0m         \u001b[38;5;28mself\u001b[39m\u001b[38;5;241m.\u001b[39m_handle_device_removed,\n\u001b[1;32m    190\u001b[0m     )\n",
      "File \u001b[0;32m~/pyenvs/main/lib/python3.12/site-packages/bleak/backends/bluezdbus/manager.py:415\u001b[0m, in \u001b[0;36mBlueZManager.active_scan\u001b[0;34m(self, adapter_path, filters, advertisement_callback, device_removed_callback)\u001b[0m\n\u001b[1;32m    412\u001b[0m assert_reply(reply)\n\u001b[1;32m    414\u001b[0m \u001b[38;5;66;03m# Start scanning\u001b[39;00m\n\u001b[0;32m--> 415\u001b[0m reply \u001b[38;5;241m=\u001b[39m \u001b[38;5;28;01mawait\u001b[39;00m \u001b[38;5;28mself\u001b[39m\u001b[38;5;241m.\u001b[39m_bus\u001b[38;5;241m.\u001b[39mcall(\n\u001b[1;32m    416\u001b[0m     Message(\n\u001b[1;32m    417\u001b[0m         destination\u001b[38;5;241m=\u001b[39mdefs\u001b[38;5;241m.\u001b[39mBLUEZ_SERVICE,\n\u001b[1;32m    418\u001b[0m         path\u001b[38;5;241m=\u001b[39madapter_path,\n\u001b[1;32m    419\u001b[0m         interface\u001b[38;5;241m=\u001b[39mdefs\u001b[38;5;241m.\u001b[39mADAPTER_INTERFACE,\n\u001b[1;32m    420\u001b[0m         member\u001b[38;5;241m=\u001b[39m\u001b[38;5;124m\"\u001b[39m\u001b[38;5;124mStartDiscovery\u001b[39m\u001b[38;5;124m\"\u001b[39m,\n\u001b[1;32m    421\u001b[0m     )\n\u001b[1;32m    422\u001b[0m )\n\u001b[1;32m    423\u001b[0m assert_reply(reply)\n\u001b[1;32m    425\u001b[0m \u001b[38;5;28;01masync\u001b[39;00m \u001b[38;5;28;01mdef\u001b[39;00m \u001b[38;5;21mstop\u001b[39m() \u001b[38;5;241m-\u001b[39m\u001b[38;5;241m>\u001b[39m \u001b[38;5;28;01mNone\u001b[39;00m:\n\u001b[1;32m    426\u001b[0m     \u001b[38;5;66;03m# need to remove callbacks first, otherwise we get TxPower\u001b[39;00m\n\u001b[1;32m    427\u001b[0m     \u001b[38;5;66;03m# and RSSI properties removed during stop which causes\u001b[39;00m\n\u001b[1;32m    428\u001b[0m     \u001b[38;5;66;03m# incorrect advertisement data callbacks\u001b[39;00m\n",
      "File \u001b[0;32m~/pyenvs/main/lib/python3.12/site-packages/dbus_fast/aio/message_bus.py:385\u001b[0m, in \u001b[0;36mMessageBus.call\u001b[0;34m(self, msg)\u001b[0m\n\u001b[1;32m    381\u001b[0m future \u001b[38;5;241m=\u001b[39m \u001b[38;5;28mself\u001b[39m\u001b[38;5;241m.\u001b[39m_loop\u001b[38;5;241m.\u001b[39mcreate_future()\n\u001b[1;32m    383\u001b[0m \u001b[38;5;28mself\u001b[39m\u001b[38;5;241m.\u001b[39m_call(msg, partial(\u001b[38;5;28mself\u001b[39m\u001b[38;5;241m.\u001b[39m_reply_handler, future))\n\u001b[0;32m--> 385\u001b[0m \u001b[38;5;28;01mawait\u001b[39;00m future\n\u001b[1;32m    387\u001b[0m \u001b[38;5;28;01mreturn\u001b[39;00m future\u001b[38;5;241m.\u001b[39mresult()\n",
      "\u001b[0;31mCancelledError\u001b[0m: "
     ]
    }
   ],
   "source": [
    "target_device_name = \"ESP32 Beacon\"\n",
    "# print(\"Scanning for devices...\")\n",
    "while True:\n",
    "    devices = await BleakScanner.discover(timeout=0.02)\n",
    "\n",
    "    target_device = None\n",
    "    for device in devices:\n",
    "        # print(f\"Found device: {device.name} - {device.address} (RSSI: {device.rssi} dBm)\")\n",
    "        if device.name and target_device_name.lower() in device.name.lower():\n",
    "            target_device = device\n",
    "            # print(f\"Target device {device.name} found with MAC {device.address}\")\n",
    "            break\n",
    "\n",
    "    if not target_device:\n",
    "        # print(\"Target device not found.\")\n",
    "        continue\n",
    "    else:\n",
    "        distance = calculate_distance(target_device.rssi)\n",
    "        # print(f\"Approximate distance to {target_device.name} ({target_device.address}): {distance:.2f} meters\")\n",
    "        print(f'\\rApproximate distance: {distance:2.2f} meters ({target_device.rssi} dB)', end='')\n"
   ]
  }
 ],
 "metadata": {
  "kernelspec": {
   "display_name": "main",
   "language": "python",
   "name": "python3"
  },
  "language_info": {
   "codemirror_mode": {
    "name": "ipython",
    "version": 3
   },
   "file_extension": ".py",
   "mimetype": "text/x-python",
   "name": "python",
   "nbconvert_exporter": "python",
   "pygments_lexer": "ipython3",
   "version": "3.12.3"
  }
 },
 "nbformat": 4,
 "nbformat_minor": 2
}
